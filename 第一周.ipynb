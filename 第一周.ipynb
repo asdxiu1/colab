{
  "nbformat": 4,
  "nbformat_minor": 0,
  "metadata": {
    "colab": {
      "provenance": [],
      "include_colab_link": true
    },
    "kernelspec": {
      "name": "python3",
      "display_name": "Python 3"
    },
    "language_info": {
      "name": "python"
    }
  },
  "cells": [
    {
      "cell_type": "markdown",
      "metadata": {
        "id": "view-in-github",
        "colab_type": "text"
      },
      "source": [
        "<a href=\"https://colab.research.google.com/github/asdxiu1/colab/blob/main/%E7%AC%AC%E4%B8%80%E5%91%A8.ipynb\" target=\"_parent\"><img src=\"https://colab.research.google.com/assets/colab-badge.svg\" alt=\"Open In Colab\"/></a>"
      ]
    },
    {
      "cell_type": "code",
      "execution_count": null,
      "metadata": {
        "colab": {
          "base_uri": "https://localhost:8080/"
        },
        "id": "6Fbo0F6ltGz2",
        "outputId": "0e4f87bf-5040-4068-b481-b4da6bac891a"
      },
      "outputs": [
        {
          "output_type": "stream",
          "name": "stdout",
          "text": [
            "x = 3\n",
            "x = 7\n",
            "hello world\n",
            "x =  3\n"
          ]
        }
      ],
      "source": [
        "x = 3\n",
        "print(\"x = %d\" %x)\n",
        "print(\"x = {}\" .format(7))\n",
        "print(\"hello world\")\n",
        "print(\"x = \", x)"
      ]
    },
    {
      "cell_type": "code",
      "source": [
        "type(x)"
      ],
      "metadata": {
        "colab": {
          "base_uri": "https://localhost:8080/"
        },
        "id": "WctF2nW2wLyh",
        "outputId": "95b95fed-b2cc-4030-d3b1-4c33db4efb9a"
      },
      "execution_count": null,
      "outputs": [
        {
          "output_type": "execute_result",
          "data": {
            "text/plain": [
              "int"
            ]
          },
          "metadata": {},
          "execution_count": 74
        }
      ]
    },
    {
      "cell_type": "code",
      "source": [
        "str_x = str(x)\n",
        "type(str_x)"
      ],
      "metadata": {
        "colab": {
          "base_uri": "https://localhost:8080/"
        },
        "id": "_r2e100uwYfG",
        "outputId": "fbd54499-1f82-414e-ddc5-93bbc587c69b"
      },
      "execution_count": null,
      "outputs": [
        {
          "output_type": "execute_result",
          "data": {
            "text/plain": [
              "str"
            ]
          },
          "metadata": {},
          "execution_count": 75
        }
      ]
    },
    {
      "cell_type": "code",
      "source": [
        "def count():\n",
        "  y = 1+1\n",
        "  return 10\n",
        "\n",
        "print(count())"
      ],
      "metadata": {
        "colab": {
          "base_uri": "https://localhost:8080/"
        },
        "id": "7HKER-afwoxg",
        "outputId": "819db7e7-9d22-4c64-eccc-8d9d1517b50a"
      },
      "execution_count": null,
      "outputs": [
        {
          "output_type": "stream",
          "name": "stdout",
          "text": [
            "10\n"
          ]
        }
      ]
    },
    {
      "cell_type": "code",
      "source": [
        "import numpy as np\n",
        "\n",
        "a = np.ones((10,10))\n",
        "b=np.ones((10,10))\n",
        "c=a+b\n",
        "print(c[0][0])\n",
        "print(c.shape)\n",
        "print(a.dtype)"
      ],
      "metadata": {
        "colab": {
          "base_uri": "https://localhost:8080/"
        },
        "id": "DmqwwNUsxBs0",
        "outputId": "ec0f45a8-5647-4728-8fbc-b76316693fa6"
      },
      "execution_count": null,
      "outputs": [
        {
          "output_type": "stream",
          "name": "stdout",
          "text": [
            "2.0\n",
            "(10, 10)\n",
            "float64\n"
          ]
        }
      ]
    },
    {
      "cell_type": "code",
      "source": [
        "import copy\n",
        "\n",
        "original_list = [1, [2, 3]]\n",
        "copied_list = copy.copy(original_list)\n",
        "original_list[0] = 0\n",
        "original_list[1][0] = 0\n",
        "print(copied_list)  # [1, [0, 3]]\n",
        "\n",
        "\n",
        "original_list = [1, [2, 3]]\n",
        "deepcopied_list = copy.deepcopy(original_list)\n",
        "original_list[0] = 0\n",
        "original_list[1][0] = 0\n",
        "print(deepcopied_list)  #  [1, [2, 3]]\n",
        "\n",
        "\n",
        "original_list = [1, [2, 3]]\n",
        "deepcopied_list = original_list\n",
        "original_list[0] = 0\n",
        "original_list[1][0] = 0\n",
        "print(deepcopied_list)  #  [0, [0, 3]]"
      ],
      "metadata": {
        "colab": {
          "base_uri": "https://localhost:8080/"
        },
        "id": "0rBKxDADur_w",
        "outputId": "a9982834-0054-490d-cdf8-835ac59f0f94"
      },
      "execution_count": null,
      "outputs": [
        {
          "output_type": "stream",
          "name": "stdout",
          "text": [
            "[1, [0, 3]]\n",
            "[1, [2, 3]]\n",
            "[0, [0, 3]]\n"
          ]
        }
      ]
    },
    {
      "cell_type": "code",
      "source": [
        "import numpy as np\n",
        "\n",
        "# 创建两个矩阵\n",
        "matrix1 = np.array([[1, 2], [3, 4]])\n",
        "matrix2 = np.array([[5, 6], [7, 8]])\n",
        "matrix1.dot(matrix2)\n",
        "print(matrix1.dot(matrix2))\n",
        "# 使用numpy.dot()进行矩阵乘法\n",
        "result_dot = np.dot(matrix1, matrix2)\n",
        "print(\"Result using np.dot():\")\n",
        "print(result_dot)\n",
        "\n",
        "# 使用@运算符进行矩阵乘法\n",
        "result_at = matrix1 @ matrix2\n",
        "print(\"\\nResult using @ operator:\")\n",
        "print(result_at)\n",
        "\n",
        "# 使用*运算符进行矩阵乘法\n",
        "result_at = matrix1 * matrix2\n",
        "print(\"\\nResult using * operator:\")\n",
        "print(result_at)"
      ],
      "metadata": {
        "colab": {
          "base_uri": "https://localhost:8080/"
        },
        "id": "vY5DKuFsttMs",
        "outputId": "f5707b8d-1ce6-4748-a60f-3f194f164b8a"
      },
      "execution_count": null,
      "outputs": [
        {
          "output_type": "stream",
          "name": "stdout",
          "text": [
            "[[19 22]\n",
            " [43 50]]\n",
            "Result using np.dot():\n",
            "[[19 22]\n",
            " [43 50]]\n",
            "\n",
            "Result using @ operator:\n",
            "[[19 22]\n",
            " [43 50]]\n",
            "\n",
            "Result using * operator:\n",
            "[[ 5 12]\n",
            " [21 32]]\n"
          ]
        }
      ]
    },
    {
      "cell_type": "code",
      "source": [
        "x = np.array([\n",
        " [[1,2],[3,4]],\n",
        " [[5,6],[7,8]]\n",
        " ])\n",
        "# (2, 2, 2)\n",
        "print(x.shape)\n",
        "# [[1 2 3 4]\n",
        "# [5 6 7 8]]\n",
        "print(x.reshape((2,4)))\n",
        "print(np.reshape(x, (2,4)))\n",
        "# [[1 2]\n",
        "# [3 4]\n",
        "# [5 6]\n",
        "# [7 8]]\n",
        "print(x.reshape((4,2)))"
      ],
      "metadata": {
        "colab": {
          "base_uri": "https://localhost:8080/"
        },
        "id": "rBv1HDGKZFBx",
        "outputId": "5ece6d7e-babd-4f3a-afe7-6f9cd87aa261"
      },
      "execution_count": null,
      "outputs": [
        {
          "output_type": "stream",
          "name": "stdout",
          "text": [
            "(2, 2, 2)\n",
            "[[1 2 3 4]\n",
            " [5 6 7 8]]\n",
            "[[1 2 3 4]\n",
            " [5 6 7 8]]\n",
            "[[1 2]\n",
            " [3 4]\n",
            " [5 6]\n",
            " [7 8]]\n"
          ]
        }
      ]
    },
    {
      "cell_type": "code",
      "source": [
        "# 创建一个列表\n",
        "my_list = [1, 2, 3, 4, 5]\n",
        "\n",
        "# 创建一个元组\n",
        "my_tuple = (1, 2, 3, 4, 5)\n",
        "\n",
        "# 修改列表中的元素\n",
        "my_list[0] = 0\n",
        "print(my_list)  # 输出: [0, 2, 3, 4, 5]\n",
        "\n",
        "# 尝试修改元组中的元素，会引发异常\n",
        "my_tuple[0] = 0  # TypeError: 'tuple' object does not support item assignment"
      ],
      "metadata": {
        "colab": {
          "base_uri": "https://localhost:8080/",
          "height": 203
        },
        "id": "6eBTJ2IDzVKv",
        "outputId": "46251a09-aed2-45e4-ab98-bbf11e99ac66"
      },
      "execution_count": null,
      "outputs": [
        {
          "output_type": "stream",
          "name": "stdout",
          "text": [
            "[0, 2, 3, 4, 5]\n"
          ]
        },
        {
          "output_type": "error",
          "ename": "TypeError",
          "evalue": "'tuple' object does not support item assignment",
          "traceback": [
            "\u001b[0;31m---------------------------------------------------------------------------\u001b[0m",
            "\u001b[0;31mTypeError\u001b[0m                                 Traceback (most recent call last)",
            "\u001b[0;32m<ipython-input-81-0ea54da15dd4>\u001b[0m in \u001b[0;36m<cell line: 12>\u001b[0;34m()\u001b[0m\n\u001b[1;32m     10\u001b[0m \u001b[0;34m\u001b[0m\u001b[0m\n\u001b[1;32m     11\u001b[0m \u001b[0;31m# 尝试修改元组中的元素，会引发异常\u001b[0m\u001b[0;34m\u001b[0m\u001b[0;34m\u001b[0m\u001b[0m\n\u001b[0;32m---> 12\u001b[0;31m \u001b[0mmy_tuple\u001b[0m\u001b[0;34m[\u001b[0m\u001b[0;36m0\u001b[0m\u001b[0;34m]\u001b[0m \u001b[0;34m=\u001b[0m \u001b[0;36m0\u001b[0m  \u001b[0;31m# TypeError: 'tuple' object does not support item assignment\u001b[0m\u001b[0;34m\u001b[0m\u001b[0;34m\u001b[0m\u001b[0m\n\u001b[0m",
            "\u001b[0;31mTypeError\u001b[0m: 'tuple' object does not support item assignment"
          ]
        }
      ]
    },
    {
      "cell_type": "code",
      "source": [
        "d = {}\n",
        "d['three'] = 3\n",
        "d[3] = 'three'\n",
        "d[1.23] = [1,2,3]\n",
        "print(d['th'+'ree'])  # 输出：3\n",
        "print(d[1+2])         # 输出：'three'"
      ],
      "metadata": {
        "colab": {
          "base_uri": "https://localhost:8080/",
          "height": 197
        },
        "id": "IIMYRI1pbndJ",
        "outputId": "ab3e8ea6-24bc-4187-91f5-a032ecea844e"
      },
      "execution_count": null,
      "outputs": [
        {
          "output_type": "error",
          "ename": "KeyError",
          "evalue": "'three'",
          "traceback": [
            "\u001b[0;31m---------------------------------------------------------------------------\u001b[0m",
            "\u001b[0;31mKeyError\u001b[0m                                  Traceback (most recent call last)",
            "\u001b[0;32m<ipython-input-26-8cc253ab1fa4>\u001b[0m in \u001b[0;36m<cell line: 5>\u001b[0;34m()\u001b[0m\n\u001b[1;32m      3\u001b[0m \u001b[0md\u001b[0m\u001b[0;34m[\u001b[0m\u001b[0;36m3\u001b[0m\u001b[0;34m]\u001b[0m \u001b[0;34m=\u001b[0m \u001b[0;34m'three'\u001b[0m\u001b[0;34m\u001b[0m\u001b[0;34m\u001b[0m\u001b[0m\n\u001b[1;32m      4\u001b[0m \u001b[0md\u001b[0m\u001b[0;34m[\u001b[0m\u001b[0;36m1.23\u001b[0m\u001b[0;34m]\u001b[0m \u001b[0;34m=\u001b[0m \u001b[0;34m[\u001b[0m\u001b[0;36m1\u001b[0m\u001b[0;34m,\u001b[0m\u001b[0;36m2\u001b[0m\u001b[0;34m,\u001b[0m\u001b[0;36m3\u001b[0m\u001b[0;34m]\u001b[0m\u001b[0;34m\u001b[0m\u001b[0;34m\u001b[0m\u001b[0m\n\u001b[0;32m----> 5\u001b[0;31m \u001b[0mprint\u001b[0m\u001b[0;34m(\u001b[0m\u001b[0md\u001b[0m\u001b[0;34m[\u001b[0m\u001b[0;34m'th'\u001b[0m\u001b[0;34m+\u001b[0m\u001b[0;34m'ree'\u001b[0m\u001b[0;34m]\u001b[0m\u001b[0;34m)\u001b[0m  \u001b[0;31m# 输出：3\u001b[0m\u001b[0;34m\u001b[0m\u001b[0;34m\u001b[0m\u001b[0m\n\u001b[0m\u001b[1;32m      6\u001b[0m \u001b[0mprint\u001b[0m\u001b[0;34m(\u001b[0m\u001b[0md\u001b[0m\u001b[0;34m[\u001b[0m\u001b[0;36m1\u001b[0m\u001b[0;34m+\u001b[0m\u001b[0;36m2\u001b[0m\u001b[0;34m]\u001b[0m\u001b[0;34m)\u001b[0m         \u001b[0;31m# 输出：'three'\u001b[0m\u001b[0;34m\u001b[0m\u001b[0;34m\u001b[0m\u001b[0m\n",
            "\u001b[0;31mKeyError\u001b[0m: 'three'"
          ]
        }
      ]
    },
    {
      "cell_type": "code",
      "source": [
        "#new_list = [expression for item in iterable if condition]\n",
        "squares = [x**2 for x in range(0, 9)]\n",
        "print(squares)"
      ],
      "metadata": {
        "colab": {
          "base_uri": "https://localhost:8080/"
        },
        "id": "gIL4ghbAJJJj",
        "outputId": "32b4b2b3-e832-47ed-c424-840eca084466"
      },
      "execution_count": null,
      "outputs": [
        {
          "output_type": "stream",
          "name": "stdout",
          "text": [
            "[0, 1, 4, 9, 16, 25, 36, 49, 64]\n"
          ]
        }
      ]
    },
    {
      "cell_type": "code",
      "source": [
        "my_list = []\n",
        "for x in range(0,9):\n",
        "  my_list.append(x**2)\n",
        "\n",
        "print(my_list)"
      ],
      "metadata": {
        "colab": {
          "base_uri": "https://localhost:8080/"
        },
        "id": "4jzLfKNhNFPS",
        "outputId": "2c6c4070-117c-4437-b069-ef2a2f24a23d"
      },
      "execution_count": null,
      "outputs": [
        {
          "output_type": "stream",
          "name": "stdout",
          "text": [
            "[0, 1, 4, 9, 16, 25, 36, 49, 64]\n"
          ]
        }
      ]
    },
    {
      "cell_type": "code",
      "source": [
        "b = [1,2,3,4,5]\n",
        "print(b[0:2])"
      ],
      "metadata": {
        "colab": {
          "base_uri": "https://localhost:8080/"
        },
        "id": "nuaHqIc5JJjw",
        "outputId": "8454d3ff-b052-4262-a2cc-33c46578af6d"
      },
      "execution_count": null,
      "outputs": [
        {
          "output_type": "stream",
          "name": "stdout",
          "text": [
            "[1, 2]\n"
          ]
        }
      ]
    },
    {
      "cell_type": "code",
      "source": [
        "# 打开文件\n",
        "file = open('filename.txt', 'w')\n",
        "\n",
        "# 写入内容\n",
        "file.write('Hello, World!')\n",
        "\n",
        "# 关闭文件\n",
        "file.close()"
      ],
      "metadata": {
        "id": "SXZGDLa7JJ3b"
      },
      "execution_count": null,
      "outputs": []
    },
    {
      "cell_type": "code",
      "source": [
        "from google.colab import files\n",
        "import os\n",
        "print( os.getcwd() )\n",
        "print( os.listdir() )"
      ],
      "metadata": {
        "colab": {
          "base_uri": "https://localhost:8080/"
        },
        "id": "dLAkoTWAOzmg",
        "outputId": "0ece5018-436f-4660-df28-f44b405ee870"
      },
      "execution_count": null,
      "outputs": [
        {
          "output_type": "stream",
          "name": "stdout",
          "text": [
            "/content\n",
            "['.config', 'data.json', 'filename.txt', 'model.pth', 'data.pkl', 'sample_data']\n"
          ]
        }
      ]
    },
    {
      "cell_type": "code",
      "source": [
        "files.download('filename.txt')"
      ],
      "metadata": {
        "colab": {
          "base_uri": "https://localhost:8080/",
          "height": 17
        },
        "id": "QMvLvA6YO0CT",
        "outputId": "fe91b9ad-c5be-4d68-db96-833ec9cde355"
      },
      "execution_count": null,
      "outputs": [
        {
          "output_type": "display_data",
          "data": {
            "text/plain": [
              "<IPython.core.display.Javascript object>"
            ],
            "application/javascript": [
              "\n",
              "    async function download(id, filename, size) {\n",
              "      if (!google.colab.kernel.accessAllowed) {\n",
              "        return;\n",
              "      }\n",
              "      const div = document.createElement('div');\n",
              "      const label = document.createElement('label');\n",
              "      label.textContent = `Downloading \"${filename}\": `;\n",
              "      div.appendChild(label);\n",
              "      const progress = document.createElement('progress');\n",
              "      progress.max = size;\n",
              "      div.appendChild(progress);\n",
              "      document.body.appendChild(div);\n",
              "\n",
              "      const buffers = [];\n",
              "      let downloaded = 0;\n",
              "\n",
              "      const channel = await google.colab.kernel.comms.open(id);\n",
              "      // Send a message to notify the kernel that we're ready.\n",
              "      channel.send({})\n",
              "\n",
              "      for await (const message of channel.messages) {\n",
              "        // Send a message to notify the kernel that we're ready.\n",
              "        channel.send({})\n",
              "        if (message.buffers) {\n",
              "          for (const buffer of message.buffers) {\n",
              "            buffers.push(buffer);\n",
              "            downloaded += buffer.byteLength;\n",
              "            progress.value = downloaded;\n",
              "          }\n",
              "        }\n",
              "      }\n",
              "      const blob = new Blob(buffers, {type: 'application/binary'});\n",
              "      const a = document.createElement('a');\n",
              "      a.href = window.URL.createObjectURL(blob);\n",
              "      a.download = filename;\n",
              "      div.appendChild(a);\n",
              "      a.click();\n",
              "      div.remove();\n",
              "    }\n",
              "  "
            ]
          },
          "metadata": {}
        },
        {
          "output_type": "display_data",
          "data": {
            "text/plain": [
              "<IPython.core.display.Javascript object>"
            ],
            "application/javascript": [
              "download(\"download_ee71b103-4e28-43eb-bded-8553775aec76\", \"filename.txt\", 13)"
            ]
          },
          "metadata": {}
        }
      ]
    },
    {
      "cell_type": "code",
      "source": [
        "import pickle\n",
        "\n",
        "data = {'name': 'Alice', 'age': 30, 'city': 'New York'}\n",
        "\n",
        "# 序列化对象并写入文件\n",
        "with open('data.pkl', 'wb') as file:\n",
        "    pickle.dump(data, file)"
      ],
      "metadata": {
        "id": "3iz2qnrvO0T6"
      },
      "execution_count": null,
      "outputs": []
    },
    {
      "cell_type": "code",
      "source": [
        "import pickle\n",
        "\n",
        "# 从文件中读取并反序列化对象\n",
        "with open('data.pkl', 'rb') as file:\n",
        "    loaded_data = pickle.load(file)\n",
        "\n",
        "print(loaded_data)"
      ],
      "metadata": {
        "colab": {
          "base_uri": "https://localhost:8080/"
        },
        "id": "FTdSZaFdPnZ5",
        "outputId": "ae163e65-a71f-4b54-96c8-9effb2e0a2cf"
      },
      "execution_count": null,
      "outputs": [
        {
          "output_type": "stream",
          "name": "stdout",
          "text": [
            "{'name': 'Alice', 'age': 30, 'city': 'New York'}\n"
          ]
        }
      ]
    },
    {
      "cell_type": "code",
      "source": [
        "import json\n",
        "\n",
        "data = {'name': 'Alice', 'age': 30, 'city': 'New York'}\n",
        "\n",
        "# 序列化对象并写入文件\n",
        "with open('data.json', 'w') as file:\n",
        "    json.dump(data, file)"
      ],
      "metadata": {
        "id": "vwX6yN7rPnrm"
      },
      "execution_count": null,
      "outputs": []
    },
    {
      "cell_type": "code",
      "source": [
        "import json\n",
        "\n",
        "# 从文件中读取并反序列化对象\n",
        "with open('data.json', 'r') as file:\n",
        "    loaded_data = json.load(file)\n",
        "\n",
        "print(loaded_data)"
      ],
      "metadata": {
        "colab": {
          "base_uri": "https://localhost:8080/"
        },
        "id": "8ik0Ehp7Pn9t",
        "outputId": "00ed0a83-16cf-4de7-ac00-4f220f5672aa"
      },
      "execution_count": null,
      "outputs": [
        {
          "output_type": "stream",
          "name": "stdout",
          "text": [
            "{'name': 'Alice', 'age': 30, 'city': 'New York'}\n"
          ]
        }
      ]
    },
    {
      "cell_type": "code",
      "source": [
        "import torch\n",
        "t = torch.randn(2,2)\n",
        "print(t.shape)"
      ],
      "metadata": {
        "colab": {
          "base_uri": "https://localhost:8080/"
        },
        "id": "bBsplX8mPomI",
        "outputId": "e497b9aa-457f-4dd6-8c37-c5844ea83a9d"
      },
      "execution_count": null,
      "outputs": [
        {
          "output_type": "stream",
          "name": "stdout",
          "text": [
            "torch.Size([2, 2])\n"
          ]
        }
      ]
    },
    {
      "cell_type": "code",
      "source": [
        "import numpy as np\n",
        "a = np.array([2])\n",
        "print(type(a))\n",
        "t = torch.from_numpy(a)\n",
        "print(type(t))"
      ],
      "metadata": {
        "colab": {
          "base_uri": "https://localhost:8080/"
        },
        "id": "PVbkRh0kPo2_",
        "outputId": "094fa380-6272-4130-b77d-54aa66a6427b"
      },
      "execution_count": null,
      "outputs": [
        {
          "output_type": "stream",
          "name": "stdout",
          "text": [
            "<class 'numpy.ndarray'>\n",
            "<class 'torch.Tensor'>\n"
          ]
        }
      ]
    },
    {
      "cell_type": "code",
      "source": [
        "import numpy as np\n",
        "a = np.array([2])\n",
        "t = torch.tensor(a)\n",
        "print(type(t))"
      ],
      "metadata": {
        "colab": {
          "base_uri": "https://localhost:8080/"
        },
        "id": "WpPaDTpXTTHx",
        "outputId": "5eec96f4-a7f2-4009-9c61-9512c2c3094d"
      },
      "execution_count": null,
      "outputs": [
        {
          "output_type": "stream",
          "name": "stdout",
          "text": [
            "<class 'torch.Tensor'>\n"
          ]
        }
      ]
    },
    {
      "cell_type": "code",
      "source": [
        "t1 = torch.full(t.shape,3)\n",
        "t1"
      ],
      "metadata": {
        "colab": {
          "base_uri": "https://localhost:8080/"
        },
        "id": "OMxkAFnMTTZS",
        "outputId": "e20f9dc8-cc1a-410b-e504-21533db129a5"
      },
      "execution_count": null,
      "outputs": [
        {
          "output_type": "execute_result",
          "data": {
            "text/plain": [
              "tensor([3])"
            ]
          },
          "metadata": {},
          "execution_count": 6
        }
      ]
    },
    {
      "cell_type": "code",
      "source": [
        "print(t1.shape)\n",
        "print(t1.dtype)\n",
        "print(t1.device)\n",
        "#t1.gpu()\n",
        "#t1.cuda()"
      ],
      "metadata": {
        "colab": {
          "base_uri": "https://localhost:8080/"
        },
        "id": "z5Wnk9SFUZyC",
        "outputId": "8c7ace7b-3f1d-4ea9-a520-f566be6aee40"
      },
      "execution_count": null,
      "outputs": [
        {
          "output_type": "stream",
          "name": "stdout",
          "text": [
            "torch.Size([1])\n",
            "torch.int64\n",
            "cpu\n"
          ]
        }
      ]
    },
    {
      "cell_type": "code",
      "source": [
        "import torch\n",
        "\n",
        "# 创建一个3x3的矩阵，元素分别为1到9，然后将其重塑为3x3的形状\n",
        "matrix = torch.tensor([1, 2, 3, 4, 5, 6, 7, 8, 9]).reshape(3, 3)\n",
        "\n",
        "# 打印整个矩阵\n",
        "print(\"Matrix:\")\n",
        "print(matrix)\n",
        "\n",
        "# 打印第一行\n",
        "print(\"\\nFirst row:\")\n",
        "print(matrix[0, 0:1])\n",
        "\n",
        "# 打印第一列\n",
        "print(\"\\nFirst column:\")\n",
        "print(matrix[:, 0])\n",
        "\n",
        "# 打印最后一列\n",
        "print(\"\\nLast column:\")\n",
        "print(matrix[..., -1])"
      ],
      "metadata": {
        "colab": {
          "base_uri": "https://localhost:8080/"
        },
        "id": "ATIel2TCW_u0",
        "outputId": "1fc8e550-c507-4163-ccc5-8277c1ab1487"
      },
      "execution_count": null,
      "outputs": [
        {
          "output_type": "stream",
          "name": "stdout",
          "text": [
            "Matrix:\n",
            "tensor([[1, 2, 3],\n",
            "        [4, 5, 6],\n",
            "        [7, 8, 9]])\n",
            "\n",
            "First row:\n",
            "tensor([1, 2, 3])\n",
            "\n",
            "First column:\n",
            "tensor([1, 4, 7])\n",
            "\n",
            "Last column:\n",
            "tensor([3, 6, 9])\n"
          ]
        }
      ]
    },
    {
      "cell_type": "code",
      "source": [
        "t = torch.cat([matrix,matrix,matrix],dim = 0)\n",
        "print(t)"
      ],
      "metadata": {
        "colab": {
          "base_uri": "https://localhost:8080/"
        },
        "id": "GH3YlEcYXapL",
        "outputId": "588d63a4-9d6e-4ade-c9cc-400b569bc48d"
      },
      "execution_count": null,
      "outputs": [
        {
          "output_type": "stream",
          "name": "stdout",
          "text": [
            "tensor([[1, 2, 3],\n",
            "        [4, 5, 6],\n",
            "        [7, 8, 9],\n",
            "        [1, 2, 3],\n",
            "        [4, 5, 6],\n",
            "        [7, 8, 9],\n",
            "        [1, 2, 3],\n",
            "        [4, 5, 6],\n",
            "        [7, 8, 9]])\n"
          ]
        }
      ]
    },
    {
      "cell_type": "code",
      "source": [
        "import torch\n",
        "\n",
        "# 创建一系列张量\n",
        "tensor1 = torch.tensor([1, 2, 3])\n",
        "tensor2 = torch.tensor([4, 5, 6])\n",
        "tensor3 = torch.tensor([7, 8, 9])\n",
        "\n",
        "# 使用 torch.stack() 将这些张量沿着新的维度进行堆叠\n",
        "stacked_tensor = torch.stack([tensor1, tensor2, tensor3],dim = 1)\n",
        "\n",
        "print(\"Stacked tensor:\")\n",
        "print(stacked_tensor)\n",
        "print(\"Shape of stacked tensor:\", stacked_tensor.shape)"
      ],
      "metadata": {
        "colab": {
          "base_uri": "https://localhost:8080/"
        },
        "id": "J8iBgZu3YEvN",
        "outputId": "fb6df917-5783-4559-e56c-168c88b090e0"
      },
      "execution_count": null,
      "outputs": [
        {
          "output_type": "stream",
          "name": "stdout",
          "text": [
            "Stacked tensor:\n",
            "tensor([[1, 4, 7],\n",
            "        [2, 5, 8],\n",
            "        [3, 6, 9]])\n",
            "Shape of stacked tensor: torch.Size([3, 3])\n"
          ]
        }
      ]
    },
    {
      "cell_type": "code",
      "source": [
        "import torch\n",
        "\n",
        "# 创建一系列张量\n",
        "tensor1 = torch.tensor([1, 2, 3])\n",
        "tensor2 = torch.tensor([4, 5, 6])\n",
        "tensor3 = torch.tensor([7, 8, 9])\n",
        "\n",
        "# 使用 torch.stack() 将这些张量沿着新的维度进行堆叠\n",
        "stacked_tensor = torch.stack([tensor1, tensor2, tensor3],dim = 1)\n",
        "\n",
        "print(\"Stacked tensor:\")\n",
        "print(stacked_tensor)\n",
        "print(\"Shape of stacked tensor:\", stacked_tensor.shape)"
      ],
      "metadata": {
        "colab": {
          "base_uri": "https://localhost:8080/"
        },
        "id": "rVOnYcR9YSsd",
        "outputId": "ce73e003-2133-4c6c-8e54-3869cfe617ba"
      },
      "execution_count": null,
      "outputs": [
        {
          "output_type": "stream",
          "name": "stdout",
          "text": [
            "Stacked tensor:\n",
            "tensor([[1, 4, 7],\n",
            "        [2, 5, 8],\n",
            "        [3, 6, 9]])\n",
            "Shape of stacked tensor: torch.Size([3, 3])\n"
          ]
        }
      ]
    },
    {
      "cell_type": "code",
      "source": [
        "import torch\n",
        "\n",
        "# 定义两个矩阵\n",
        "matrix1 = torch.tensor([[1, 2], [3, 4]])\n",
        "matrix2 = torch.tensor([[5, 6], [7, 8]])\n",
        "\n",
        "# 使用 torch.mm() 函数进行矩阵乘法\n",
        "result_mm = torch.mm(matrix1, matrix2)\n",
        "\n",
        "# 使用 torch.matmul() 函数进行矩阵乘法\n",
        "result_matmul = torch.matmul(matrix1, matrix2)\n",
        "\n",
        "print(\"Result using torch.mm():\")\n",
        "print(result_mm)\n",
        "\n",
        "print(\"\\nResult using torch.matmul():\")\n",
        "print(result_matmul)"
      ],
      "metadata": {
        "colab": {
          "base_uri": "https://localhost:8080/"
        },
        "id": "mClxGVCZYTRf",
        "outputId": "c0c88d2c-4aa6-4ada-a7e4-02ab536b98d5"
      },
      "execution_count": null,
      "outputs": [
        {
          "output_type": "stream",
          "name": "stdout",
          "text": [
            "Result using torch.mm():\n",
            "tensor([[19, 22],\n",
            "        [43, 50]])\n",
            "\n",
            "Result using torch.matmul():\n",
            "tensor([[19, 22],\n",
            "        [43, 50]])\n"
          ]
        }
      ]
    },
    {
      "cell_type": "code",
      "source": [
        "import torch\n",
        "\n",
        "# 定义两个矩阵\n",
        "matrix1 = torch.tensor([[1, 2], [3, 4]])\n",
        "matrix2 = torch.tensor([[5, 6], [7, 8]])\n",
        "\n",
        "# 使用 @ 运算符进行矩阵乘法\n",
        "result_at = matrix1 @ matrix2\n",
        "\n",
        "print(\"Result using @ operator:\")\n",
        "print(result_at)"
      ],
      "metadata": {
        "colab": {
          "base_uri": "https://localhost:8080/"
        },
        "id": "gWXVjd6CYVo8",
        "outputId": "84550fc2-1894-4a9d-89c2-2918d4dea32c"
      },
      "execution_count": null,
      "outputs": [
        {
          "output_type": "stream",
          "name": "stdout",
          "text": [
            "Result using @ operator:\n",
            "tensor([[19, 22],\n",
            "        [43, 50]])\n"
          ]
        }
      ]
    },
    {
      "cell_type": "code",
      "source": [
        "import torch\n",
        "\n",
        "# 定义两个张量\n",
        "tensor1 = torch.tensor([[1, 2], [3, 4]])\n",
        "tensor2 = torch.tensor([[5, 6], [7, 8]])\n",
        "\n",
        "# 使用 torch.mul() 函数进行逐元素相乘\n",
        "result_mul = torch.mul(tensor1, tensor2)\n",
        "\n",
        "print(\"Result using torch.mul():\")\n",
        "print(result_mul)"
      ],
      "metadata": {
        "colab": {
          "base_uri": "https://localhost:8080/"
        },
        "id": "7FiSkk-OYV5b",
        "outputId": "f27dcb15-7df2-47b5-c5f6-9eee02e8b04e"
      },
      "execution_count": null,
      "outputs": [
        {
          "output_type": "stream",
          "name": "stdout",
          "text": [
            "Result using torch.mul():\n",
            "tensor([[ 5, 12],\n",
            "        [21, 32]])\n"
          ]
        }
      ]
    },
    {
      "cell_type": "code",
      "source": [
        "import torch\n",
        "\n",
        "# 定义两个张量\n",
        "tensor1 = torch.tensor([[1, 2], [3, 4]])\n",
        "tensor2 = torch.tensor([[5, 6], [7, 8]])\n",
        "\n",
        "# 使用 * 运算符进行逐元素相乘\n",
        "result_multiply = tensor1 * tensor2\n",
        "\n",
        "print(\"Result using * operator:\")\n",
        "print(result_multiply)"
      ],
      "metadata": {
        "colab": {
          "base_uri": "https://localhost:8080/"
        },
        "id": "72tfD7NpZz1F",
        "outputId": "3c21d819-2690-46d0-c10d-cb606a89e1c1"
      },
      "execution_count": null,
      "outputs": [
        {
          "output_type": "stream",
          "name": "stdout",
          "text": [
            "Result using * operator:\n",
            "tensor([[ 5, 12],\n",
            "        [21, 32]])\n"
          ]
        }
      ]
    },
    {
      "cell_type": "code",
      "source": [
        "import torch\n",
        "\n",
        "# 创建一个标量张量\n",
        "tensor = torch.tensor(3.14)\n",
        "\n",
        "# 使用 tensor.item() 将标量张量转换为数值\n",
        "value = tensor.item()\n",
        "\n",
        "print(\"Tensor:\")\n",
        "print(tensor)\n",
        "print(\"Value:\")\n",
        "print(value)\n",
        "print(\"Type of value:\", type(value))"
      ],
      "metadata": {
        "colab": {
          "base_uri": "https://localhost:8080/"
        },
        "id": "4VCoiQKmZ02N",
        "outputId": "c01733c3-1d6a-4124-c1c5-2ac028cd7ee7"
      },
      "execution_count": null,
      "outputs": [
        {
          "output_type": "stream",
          "name": "stdout",
          "text": [
            "Tensor:\n",
            "tensor(3.1400)\n",
            "Value:\n",
            "3.140000104904175\n",
            "Type of value: <class 'float'>\n"
          ]
        }
      ]
    },
    {
      "cell_type": "code",
      "source": [
        "import torch\n",
        "\n",
        "# 创建一个包含多个元素的张量\n",
        "tensor = torch.tensor([1, 2, 3])\n",
        "\n",
        "# 尝试调用 tensor.item() 方法，会引发 ValueError 异常\n",
        "value = tensor.item()"
      ],
      "metadata": {
        "colab": {
          "base_uri": "https://localhost:8080/",
          "height": 185
        },
        "id": "kY-SR-7LZ1HF",
        "outputId": "f8548419-d71d-495a-efcd-0378111b4ee6"
      },
      "execution_count": null,
      "outputs": [
        {
          "output_type": "error",
          "ename": "RuntimeError",
          "evalue": "a Tensor with 3 elements cannot be converted to Scalar",
          "traceback": [
            "\u001b[0;31m---------------------------------------------------------------------------\u001b[0m",
            "\u001b[0;31mRuntimeError\u001b[0m                              Traceback (most recent call last)",
            "\u001b[0;32m<ipython-input-15-ae766f0eb9b7>\u001b[0m in \u001b[0;36m<cell line: 7>\u001b[0;34m()\u001b[0m\n\u001b[1;32m      5\u001b[0m \u001b[0;34m\u001b[0m\u001b[0m\n\u001b[1;32m      6\u001b[0m \u001b[0;31m# 尝试调用 tensor.item() 方法，会引发 ValueError 异常\u001b[0m\u001b[0;34m\u001b[0m\u001b[0;34m\u001b[0m\u001b[0m\n\u001b[0;32m----> 7\u001b[0;31m \u001b[0mvalue\u001b[0m \u001b[0;34m=\u001b[0m \u001b[0mtensor\u001b[0m\u001b[0;34m.\u001b[0m\u001b[0mitem\u001b[0m\u001b[0;34m(\u001b[0m\u001b[0;34m)\u001b[0m\u001b[0;34m\u001b[0m\u001b[0;34m\u001b[0m\u001b[0m\n\u001b[0m",
            "\u001b[0;31mRuntimeError\u001b[0m: a Tensor with 3 elements cannot be converted to Scalar"
          ]
        }
      ]
    },
    {
      "cell_type": "code",
      "source": [
        "import torch\n",
        "\n",
        "# 创建一个张量\n",
        "tensor = torch.tensor([1, 2, 3])\n",
        "\n",
        "# 使用原地操作函数将张量的所有元素都乘以2\n",
        "newt = tensor.mul_(2)\n",
        "\n",
        "# 此时 tensor 的值已经被修改\n",
        "print(tensor)\n",
        "print(newt)\n",
        "\n",
        "# 创建另一个张量并乘以2，但不是原地操作\n",
        "tensor2 = torch.tensor([1, 2, 3])\n",
        "new_tensor = tensor2 * 2\n",
        "\n",
        "# tensor2 的值不会被修改\n",
        "print(tensor2)\n",
        "\n",
        "# new_tensor 是一个新的张量，存储乘以2后的结果\n",
        "print(new_tensor)"
      ],
      "metadata": {
        "colab": {
          "base_uri": "https://localhost:8080/"
        },
        "id": "P0z4Dc8cZ1Yh",
        "outputId": "9f4da07d-9768-41b4-95d5-370ecb09a118"
      },
      "execution_count": null,
      "outputs": [
        {
          "output_type": "stream",
          "name": "stdout",
          "text": [
            "tensor([2, 4, 6])\n",
            "tensor([2, 4, 6])\n",
            "tensor([1, 2, 3])\n",
            "tensor([2, 4, 6])\n"
          ]
        }
      ]
    },
    {
      "cell_type": "code",
      "source": [
        "import torch\n",
        "import torch.nn as nn\n",
        "\n",
        "# 使用 Sequential 定义一个简单的神经网络模型\n",
        "model = nn.Sequential(\n",
        "    nn.Linear(10, 20),  # 全连接层，输入大小为10，输出大小为20\n",
        "    nn.ReLU(),           # ReLU激活函数\n",
        "    nn.Linear(20, 1)     # 全连接层，输入大小为20，输出大小为1\n",
        ")\n",
        "print(model)\n",
        "print(model.named_parameters)"
      ],
      "metadata": {
        "colab": {
          "base_uri": "https://localhost:8080/"
        },
        "id": "x8A_mS97Z1oW",
        "outputId": "d36df1e3-269f-4e28-e787-be720fd4d1b0"
      },
      "execution_count": null,
      "outputs": [
        {
          "output_type": "stream",
          "name": "stdout",
          "text": [
            "Sequential(\n",
            "  (0): Linear(in_features=10, out_features=20, bias=True)\n",
            "  (1): ReLU()\n",
            "  (2): Linear(in_features=20, out_features=1, bias=True)\n",
            ")\n",
            "<bound method Module.named_parameters of Sequential(\n",
            "  (0): Linear(in_features=10, out_features=20, bias=True)\n",
            "  (1): ReLU()\n",
            "  (2): Linear(in_features=20, out_features=1, bias=True)\n",
            ")>\n"
          ]
        }
      ]
    },
    {
      "cell_type": "code",
      "source": [
        "# 定义输入张量\n",
        "input_tensor = torch.randn(1, 10)\n",
        "\n",
        "# 执行前向传播\n",
        "# output_tensor = model(input_tensor)\n",
        "output_tensor = model.forward(input_tensor)\n",
        "\n",
        "print(\"Input tensor:\")\n",
        "print(input_tensor)\n",
        "print(\"\\nOutput tensor:\")\n",
        "print(output_tensor)"
      ],
      "metadata": {
        "colab": {
          "base_uri": "https://localhost:8080/"
        },
        "id": "WiYXlUWCrMcP",
        "outputId": "8958b3ef-077d-4d74-a0bb-7266dfff771d"
      },
      "execution_count": null,
      "outputs": [
        {
          "output_type": "stream",
          "name": "stdout",
          "text": [
            "Input tensor:\n",
            "tensor([[ 0.1498,  0.4884,  0.4481, -0.8130, -1.1218, -0.2416, -0.0157, -1.0943,\n",
            "          0.2014,  1.3848]])\n",
            "\n",
            "Output tensor:\n",
            "tensor([[-0.3443]], grad_fn=<AddmmBackward0>)\n"
          ]
        }
      ]
    },
    {
      "cell_type": "code",
      "source": [
        "import torch\n",
        "import torch.nn as nn\n",
        "\n",
        "# 使用自定义类继承自 nn.Module 定义神经网络模型\n",
        "class CustomModel(nn.Module):\n",
        "    def __init__(self):\n",
        "        super(CustomModel, self).__init__()\n",
        "        self.fc1 = nn.Linear(10, 20)  # 全连接层，输入大小为10，输出大小为20\n",
        "        self.relu = nn.ReLU()          # ReLU激活函数\n",
        "        self.fc2 = nn.Linear(20, 1)    # 全连接层，输入大小为20，输出大小为1\n",
        "\n",
        "    def forward(self, x):\n",
        "        x = self.fc1(x)\n",
        "        x = self.relu(x)\n",
        "        x = self.fc2(x)\n",
        "        return x\n",
        "\n",
        "# 创建自定义模型的实例\n",
        "model = CustomModel()\n",
        "print(model)\n",
        "print(model.named_parameters)"
      ],
      "metadata": {
        "colab": {
          "base_uri": "https://localhost:8080/"
        },
        "id": "sGdKr_vMZ0Fd",
        "outputId": "d169be1f-f72d-43cd-908b-654b0e39a7e9"
      },
      "execution_count": null,
      "outputs": [
        {
          "output_type": "stream",
          "name": "stdout",
          "text": [
            "CustomModel(\n",
            "  (fc1): Linear(in_features=10, out_features=20, bias=True)\n",
            "  (relu): ReLU()\n",
            "  (fc2): Linear(in_features=20, out_features=1, bias=True)\n",
            ")\n",
            "<bound method Module.named_parameters of CustomModel(\n",
            "  (fc1): Linear(in_features=10, out_features=20, bias=True)\n",
            "  (relu): ReLU()\n",
            "  (fc2): Linear(in_features=20, out_features=1, bias=True)\n",
            ")>\n"
          ]
        }
      ]
    },
    {
      "cell_type": "code",
      "source": [
        "# 定义输入张量\n",
        "input_tensor = torch.randn(1, 10)\n",
        "\n",
        "# 执行前向传播\n",
        "# output_tensor = model(input_tensor)\n",
        "output_tensor = model.forward(input_tensor)\n",
        "\n",
        "print(\"Input tensor:\")\n",
        "print(input_tensor)\n",
        "print(\"\\nOutput tensor:\")\n",
        "print(output_tensor)"
      ],
      "metadata": {
        "colab": {
          "base_uri": "https://localhost:8080/"
        },
        "id": "FL7KSZi8rSkg",
        "outputId": "5387ee30-528d-4100-dc71-50d54c79c974"
      },
      "execution_count": null,
      "outputs": [
        {
          "output_type": "stream",
          "name": "stdout",
          "text": [
            "Input tensor:\n",
            "tensor([[-0.7245,  1.1511,  0.2605, -0.7363, -0.8059,  0.2829,  0.4841,  2.8830,\n",
            "          0.4198, -0.4969]])\n",
            "\n",
            "Output tensor:\n",
            "tensor([[-0.2139]], grad_fn=<AddmmBackward0>)\n"
          ]
        }
      ]
    },
    {
      "cell_type": "code",
      "source": [
        "import torch\n",
        "\n",
        "# 定义一个张量并设置 requires_grad=True，表示要对其求梯度\n",
        "x = torch.tensor(3.0, requires_grad=True)\n",
        "y = torch.tensor(4.0, requires_grad=True)\n",
        "\n",
        "# 定义一个计算图\n",
        "z = x * y + torch.sin(x)\n",
        "\n",
        "# 自动求导\n",
        "z.backward()\n",
        "\n",
        "# 输出 x 和 y 的梯度\n",
        "print(\"Gradient of x:\", x.grad)\n",
        "print(\"Gradient of y:\", y.grad)"
      ],
      "metadata": {
        "colab": {
          "base_uri": "https://localhost:8080/"
        },
        "id": "ALM82KAvtXSX",
        "outputId": "a230ea94-9092-4ae4-ea8f-b171bb4d6100"
      },
      "execution_count": null,
      "outputs": [
        {
          "output_type": "stream",
          "name": "stdout",
          "text": [
            "Gradient of x: tensor(3.0100)\n",
            "Gradient of y: tensor(3.)\n"
          ]
        }
      ]
    },
    {
      "cell_type": "code",
      "source": [
        "import torch\n",
        "\n",
        "# 定义一个张量并设置 requires_grad=True，表示要对其求梯度\n",
        "x = torch.tensor(3.0, requires_grad=True)\n",
        "with torch.no_grad():\n",
        "  y = torch.tensor(4.0)\n",
        "\n",
        "# 定义一个计算图\n",
        "z = x * y + torch.sin(x)\n",
        "\n",
        "# 自动求导\n",
        "z.backward()\n",
        "\n",
        "# 输出 x 和 y 的梯度\n",
        "print(\"Gradient of x:\", x.grad)\n",
        "print(\"Gradient of y:\", y.grad)"
      ],
      "metadata": {
        "colab": {
          "base_uri": "https://localhost:8080/"
        },
        "id": "KZ9rV93at3Z6",
        "outputId": "7500e030-290d-47d9-ae80-1ef56cff5a67"
      },
      "execution_count": null,
      "outputs": [
        {
          "output_type": "stream",
          "name": "stdout",
          "text": [
            "Gradient of x: tensor(3.0100)\n",
            "Gradient of y: None\n"
          ]
        }
      ]
    },
    {
      "cell_type": "code",
      "source": [
        "import torch\n",
        "import torch.nn as nn\n",
        "\n",
        "# 使用 Sequential 定义一个简单的神经网络模型\n",
        "model = nn.Sequential(\n",
        "    nn.Linear(10, 20),  # 全连接层，输入大小为10，输出大小为20\n",
        "    nn.ReLU(),           # ReLU激活函数\n",
        "    nn.Linear(20, 1)     # 全连接层，输入大小为20，输出大小为1\n",
        ")\n",
        "\n",
        "# 定义输入张量\n",
        "input_tensor = torch.randn(1, 10)\n",
        "\n",
        "# 执行前向传播\n",
        "output_tensor = model(input_tensor)\n",
        "\n",
        "# 创建优化器\n",
        "optimizer = torch.optim.SGD(model.parameters(), lr=0.1)\n",
        "\n",
        "# 定义梯度回归为1的目标值\n",
        "target_value = torch.ones_like(output_tensor)\n",
        "\n",
        "# 计算损失函数\n",
        "loss_function = nn.MSELoss()\n",
        "loss = loss_function(output_tensor, target_value)\n",
        "\n",
        "# 反向传播计算梯度\n",
        "optimizer.zero_grad()  # 梯度清零\n",
        "loss.backward()  # 反向传播\n",
        "optimizer.step()  # 更新参数\n",
        "\n",
        "# 限制参数值回归为1\n",
        "with torch.no_grad():\n",
        "    for param in model.parameters():\n",
        "        param.clamp_(1)  # 将参数限制在一个范围内，确保其值为1\n",
        "\n",
        "print(\"Model parameters after regression:\")\n",
        "for name, param in model.named_parameters():\n",
        "    print(name, param.data)"
      ],
      "metadata": {
        "colab": {
          "base_uri": "https://localhost:8080/"
        },
        "id": "6DIjpMXHs27_",
        "outputId": "68c38efb-0dd8-4209-9917-7cee31a71fc7"
      },
      "execution_count": null,
      "outputs": [
        {
          "output_type": "stream",
          "name": "stdout",
          "text": [
            "Model parameters after regression:\n",
            "0.weight tensor([[1., 1., 1., 1., 1., 1., 1., 1., 1., 1.],\n",
            "        [1., 1., 1., 1., 1., 1., 1., 1., 1., 1.],\n",
            "        [1., 1., 1., 1., 1., 1., 1., 1., 1., 1.],\n",
            "        [1., 1., 1., 1., 1., 1., 1., 1., 1., 1.],\n",
            "        [1., 1., 1., 1., 1., 1., 1., 1., 1., 1.],\n",
            "        [1., 1., 1., 1., 1., 1., 1., 1., 1., 1.],\n",
            "        [1., 1., 1., 1., 1., 1., 1., 1., 1., 1.],\n",
            "        [1., 1., 1., 1., 1., 1., 1., 1., 1., 1.],\n",
            "        [1., 1., 1., 1., 1., 1., 1., 1., 1., 1.],\n",
            "        [1., 1., 1., 1., 1., 1., 1., 1., 1., 1.],\n",
            "        [1., 1., 1., 1., 1., 1., 1., 1., 1., 1.],\n",
            "        [1., 1., 1., 1., 1., 1., 1., 1., 1., 1.],\n",
            "        [1., 1., 1., 1., 1., 1., 1., 1., 1., 1.],\n",
            "        [1., 1., 1., 1., 1., 1., 1., 1., 1., 1.],\n",
            "        [1., 1., 1., 1., 1., 1., 1., 1., 1., 1.],\n",
            "        [1., 1., 1., 1., 1., 1., 1., 1., 1., 1.],\n",
            "        [1., 1., 1., 1., 1., 1., 1., 1., 1., 1.],\n",
            "        [1., 1., 1., 1., 1., 1., 1., 1., 1., 1.],\n",
            "        [1., 1., 1., 1., 1., 1., 1., 1., 1., 1.],\n",
            "        [1., 1., 1., 1., 1., 1., 1., 1., 1., 1.]])\n",
            "0.bias tensor([1., 1., 1., 1., 1., 1., 1., 1., 1., 1., 1., 1., 1., 1., 1., 1., 1., 1.,\n",
            "        1., 1.])\n",
            "2.weight tensor([[1., 1., 1., 1., 1., 1., 1., 1., 1., 1., 1., 1., 1., 1., 1., 1., 1., 1.,\n",
            "         1., 1.]])\n",
            "2.bias tensor([1.])\n"
          ]
        }
      ]
    },
    {
      "cell_type": "code",
      "source": [
        "torch.save(model.state_dict(), 'model.pth')"
      ],
      "metadata": {
        "id": "2i9Idq70urMG"
      },
      "execution_count": null,
      "outputs": []
    },
    {
      "cell_type": "code",
      "source": [
        "from google.colab import files\n",
        "import os\n",
        "print( os.getcwd() )\n",
        "print( os.listdir() )"
      ],
      "metadata": {
        "colab": {
          "base_uri": "https://localhost:8080/"
        },
        "id": "Z8ejLYujuzA2",
        "outputId": "be3dc08a-11e8-4135-f7dd-763c10df88e7"
      },
      "execution_count": null,
      "outputs": [
        {
          "output_type": "stream",
          "name": "stdout",
          "text": [
            "/content\n",
            "['.config', 'data.json', 'filename.txt', 'model.pth', 'data.pkl', 'sample_data']\n"
          ]
        }
      ]
    },
    {
      "cell_type": "code",
      "source": [
        "import torch\n",
        "import torch.nn as nn\n",
        "import torch.optim as optim\n",
        "import matplotlib.pyplot as plt\n",
        "\n",
        "# 定义模型\n",
        "class SimpleModel(nn.Module):\n",
        "    def __init__(self):\n",
        "        super(SimpleModel, self).__init__()\n",
        "        self.fc = nn.Linear(1, 1)\n",
        "\n",
        "    def forward(self, x):\n",
        "        return self.fc(x)\n",
        "\n",
        "# 准备数据\n",
        "x = torch.randn(100, 1)\n",
        "y = 3 * x + 2 + torch.randn(100, 1) #gt\n",
        "\n",
        "# 实例化模型、损失函数和优化器\n",
        "model = SimpleModel()\n",
        "criterion = nn.MSELoss()\n",
        "optimizer = optim.SGD(model.parameters(), lr=0.01)\n",
        "\n",
        "# 训练循环\n",
        "epochs = 10\n",
        "losses = []\n",
        "gradients = []\n",
        "\n",
        "for epoch in range(epochs):\n",
        "    # 前向传播\n",
        "    outputs = model(x)\n",
        "    loss = criterion(outputs, y)\n",
        "\n",
        "    # 反向传播\n",
        "    optimizer.zero_grad()\n",
        "    loss.backward()\n",
        "\n",
        "    # 保存梯度\n",
        "    gradients.append(model.fc.weight.grad.item())\n",
        "\n",
        "    # 更新参数\n",
        "    optimizer.step()\n",
        "\n",
        "    # 保存损失\n",
        "    losses.append(loss.item())\n",
        "\n",
        "# 可视化损失和梯度\n",
        "plt.figure(figsize=(10, 5))\n",
        "\n",
        "plt.subplot(1, 2, 1)\n",
        "plt.plot(losses, label='Loss')\n",
        "plt.xlabel('Epoch')\n",
        "plt.ylabel('Loss')\n",
        "plt.title('Training Loss')\n",
        "plt.legend()\n",
        "\n",
        "plt.subplot(1, 2, 2)\n",
        "plt.plot(gradients, label='Gradient')\n",
        "plt.xlabel('Epoch')\n",
        "plt.ylabel('Gradient')\n",
        "plt.title('Gradient')\n",
        "plt.legend()\n",
        "\n",
        "plt.show()"
      ],
      "metadata": {
        "colab": {
          "base_uri": "https://localhost:8080/"
        },
        "id": "6sFiBys40WeN",
        "outputId": "f480d0a7-e506-4d15-9cd3-f98faa0796b3"
      },
      "execution_count": null,
      "outputs": [
        {
          "output_type": "display_data",
          "data": {
            "text/plain": [
              "<Figure size 1000x500 with 2 Axes>"
            ],
            "image/png": "[encoded data removed]"
          },
          "metadata": {}
        }
      ]
    }
  ]
}